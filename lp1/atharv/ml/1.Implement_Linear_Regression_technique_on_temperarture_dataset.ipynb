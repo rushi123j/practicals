{
 "cells": [
  {
   "cell_type": "code",
   "execution_count": 1,
   "id": "e53e0e08-9af2-47f3-8c87-dd8a03650339",
   "metadata": {},
   "outputs": [],
   "source": [
    "import matplotlib.pyplot as plt\n",
    "import pandas as pd\n",
    "import seaborn as sns"
   ]
  },
  {
   "cell_type": "code",
   "execution_count": 5,
   "id": "a2cad2f4-1ac9-4b33-afc7-a26c521cfe5d",
   "metadata": {},
   "outputs": [],
   "source": [
    "trainData=pd.read_csv(r'C:\\\\Users\\\\rushikesh\\\\Downloads\\\\temperatures.csv')"
   ]
  },
  {
   "cell_type": "code",
   "execution_count": 7,
   "id": "c1033835-c9ff-4fa0-bf81-6701d1e4a5ab",
   "metadata": {},
   "outputs": [
    {
     "data": {
      "text/html": [
       "<div>\n",
       "<style scoped>\n",
       "    .dataframe tbody tr th:only-of-type {\n",
       "        vertical-align: middle;\n",
       "    }\n",
       "\n",
       "    .dataframe tbody tr th {\n",
       "        vertical-align: top;\n",
       "    }\n",
       "\n",
       "    .dataframe thead th {\n",
       "        text-align: right;\n",
       "    }\n",
       "</style>\n",
       "<table border=\"1\" class=\"dataframe\">\n",
       "  <thead>\n",
       "    <tr style=\"text-align: right;\">\n",
       "      <th></th>\n",
       "      <th>YEAR</th>\n",
       "      <th>JAN</th>\n",
       "      <th>FEB</th>\n",
       "      <th>MAR</th>\n",
       "      <th>APR</th>\n",
       "      <th>MAY</th>\n",
       "      <th>JUN</th>\n",
       "      <th>JUL</th>\n",
       "      <th>AUG</th>\n",
       "      <th>SEP</th>\n",
       "      <th>OCT</th>\n",
       "      <th>NOV</th>\n",
       "      <th>DEC</th>\n",
       "      <th>ANNUAL</th>\n",
       "      <th>JAN-FEB</th>\n",
       "      <th>MAR-MAY</th>\n",
       "      <th>JUN-SEP</th>\n",
       "      <th>OCT-DEC</th>\n",
       "    </tr>\n",
       "  </thead>\n",
       "  <tbody>\n",
       "    <tr>\n",
       "      <th>0</th>\n",
       "      <td>1901</td>\n",
       "      <td>22.40</td>\n",
       "      <td>24.14</td>\n",
       "      <td>29.07</td>\n",
       "      <td>31.91</td>\n",
       "      <td>33.41</td>\n",
       "      <td>33.18</td>\n",
       "      <td>31.21</td>\n",
       "      <td>30.39</td>\n",
       "      <td>30.47</td>\n",
       "      <td>29.97</td>\n",
       "      <td>27.31</td>\n",
       "      <td>24.49</td>\n",
       "      <td>28.96</td>\n",
       "      <td>23.27</td>\n",
       "      <td>31.46</td>\n",
       "      <td>31.27</td>\n",
       "      <td>27.25</td>\n",
       "    </tr>\n",
       "    <tr>\n",
       "      <th>1</th>\n",
       "      <td>1902</td>\n",
       "      <td>24.93</td>\n",
       "      <td>26.58</td>\n",
       "      <td>29.77</td>\n",
       "      <td>31.78</td>\n",
       "      <td>33.73</td>\n",
       "      <td>32.91</td>\n",
       "      <td>30.92</td>\n",
       "      <td>30.73</td>\n",
       "      <td>29.80</td>\n",
       "      <td>29.12</td>\n",
       "      <td>26.31</td>\n",
       "      <td>24.04</td>\n",
       "      <td>29.22</td>\n",
       "      <td>25.75</td>\n",
       "      <td>31.76</td>\n",
       "      <td>31.09</td>\n",
       "      <td>26.49</td>\n",
       "    </tr>\n",
       "    <tr>\n",
       "      <th>2</th>\n",
       "      <td>1903</td>\n",
       "      <td>23.44</td>\n",
       "      <td>25.03</td>\n",
       "      <td>27.83</td>\n",
       "      <td>31.39</td>\n",
       "      <td>32.91</td>\n",
       "      <td>33.00</td>\n",
       "      <td>31.34</td>\n",
       "      <td>29.98</td>\n",
       "      <td>29.85</td>\n",
       "      <td>29.04</td>\n",
       "      <td>26.08</td>\n",
       "      <td>23.65</td>\n",
       "      <td>28.47</td>\n",
       "      <td>24.24</td>\n",
       "      <td>30.71</td>\n",
       "      <td>30.92</td>\n",
       "      <td>26.26</td>\n",
       "    </tr>\n",
       "    <tr>\n",
       "      <th>3</th>\n",
       "      <td>1904</td>\n",
       "      <td>22.50</td>\n",
       "      <td>24.73</td>\n",
       "      <td>28.21</td>\n",
       "      <td>32.02</td>\n",
       "      <td>32.64</td>\n",
       "      <td>32.07</td>\n",
       "      <td>30.36</td>\n",
       "      <td>30.09</td>\n",
       "      <td>30.04</td>\n",
       "      <td>29.20</td>\n",
       "      <td>26.36</td>\n",
       "      <td>23.63</td>\n",
       "      <td>28.49</td>\n",
       "      <td>23.62</td>\n",
       "      <td>30.95</td>\n",
       "      <td>30.66</td>\n",
       "      <td>26.40</td>\n",
       "    </tr>\n",
       "    <tr>\n",
       "      <th>4</th>\n",
       "      <td>1905</td>\n",
       "      <td>22.00</td>\n",
       "      <td>22.83</td>\n",
       "      <td>26.68</td>\n",
       "      <td>30.01</td>\n",
       "      <td>33.32</td>\n",
       "      <td>33.25</td>\n",
       "      <td>31.44</td>\n",
       "      <td>30.68</td>\n",
       "      <td>30.12</td>\n",
       "      <td>30.67</td>\n",
       "      <td>27.52</td>\n",
       "      <td>23.82</td>\n",
       "      <td>28.30</td>\n",
       "      <td>22.25</td>\n",
       "      <td>30.00</td>\n",
       "      <td>31.33</td>\n",
       "      <td>26.57</td>\n",
       "    </tr>\n",
       "    <tr>\n",
       "      <th>5</th>\n",
       "      <td>1906</td>\n",
       "      <td>22.28</td>\n",
       "      <td>23.69</td>\n",
       "      <td>27.31</td>\n",
       "      <td>31.93</td>\n",
       "      <td>34.11</td>\n",
       "      <td>32.19</td>\n",
       "      <td>31.01</td>\n",
       "      <td>30.30</td>\n",
       "      <td>29.92</td>\n",
       "      <td>29.55</td>\n",
       "      <td>27.60</td>\n",
       "      <td>24.72</td>\n",
       "      <td>28.73</td>\n",
       "      <td>23.03</td>\n",
       "      <td>31.11</td>\n",
       "      <td>30.86</td>\n",
       "      <td>27.29</td>\n",
       "    </tr>\n",
       "    <tr>\n",
       "      <th>6</th>\n",
       "      <td>1907</td>\n",
       "      <td>24.46</td>\n",
       "      <td>24.01</td>\n",
       "      <td>27.04</td>\n",
       "      <td>31.79</td>\n",
       "      <td>32.68</td>\n",
       "      <td>31.92</td>\n",
       "      <td>31.05</td>\n",
       "      <td>29.58</td>\n",
       "      <td>30.67</td>\n",
       "      <td>29.87</td>\n",
       "      <td>27.78</td>\n",
       "      <td>24.44</td>\n",
       "      <td>28.65</td>\n",
       "      <td>24.23</td>\n",
       "      <td>29.92</td>\n",
       "      <td>30.80</td>\n",
       "      <td>27.36</td>\n",
       "    </tr>\n",
       "    <tr>\n",
       "      <th>7</th>\n",
       "      <td>1908</td>\n",
       "      <td>23.57</td>\n",
       "      <td>25.26</td>\n",
       "      <td>28.86</td>\n",
       "      <td>32.42</td>\n",
       "      <td>33.02</td>\n",
       "      <td>33.12</td>\n",
       "      <td>30.61</td>\n",
       "      <td>29.55</td>\n",
       "      <td>29.59</td>\n",
       "      <td>29.35</td>\n",
       "      <td>26.88</td>\n",
       "      <td>23.73</td>\n",
       "      <td>28.83</td>\n",
       "      <td>24.42</td>\n",
       "      <td>31.43</td>\n",
       "      <td>30.72</td>\n",
       "      <td>26.64</td>\n",
       "    </tr>\n",
       "    <tr>\n",
       "      <th>8</th>\n",
       "      <td>1909</td>\n",
       "      <td>22.67</td>\n",
       "      <td>24.36</td>\n",
       "      <td>29.22</td>\n",
       "      <td>30.79</td>\n",
       "      <td>33.06</td>\n",
       "      <td>31.70</td>\n",
       "      <td>29.81</td>\n",
       "      <td>29.81</td>\n",
       "      <td>30.06</td>\n",
       "      <td>29.25</td>\n",
       "      <td>27.69</td>\n",
       "      <td>23.69</td>\n",
       "      <td>28.38</td>\n",
       "      <td>23.52</td>\n",
       "      <td>31.02</td>\n",
       "      <td>30.33</td>\n",
       "      <td>26.88</td>\n",
       "    </tr>\n",
       "    <tr>\n",
       "      <th>9</th>\n",
       "      <td>1910</td>\n",
       "      <td>23.24</td>\n",
       "      <td>25.16</td>\n",
       "      <td>28.48</td>\n",
       "      <td>31.42</td>\n",
       "      <td>33.51</td>\n",
       "      <td>31.84</td>\n",
       "      <td>30.42</td>\n",
       "      <td>29.86</td>\n",
       "      <td>29.82</td>\n",
       "      <td>28.91</td>\n",
       "      <td>26.32</td>\n",
       "      <td>23.37</td>\n",
       "      <td>28.53</td>\n",
       "      <td>24.20</td>\n",
       "      <td>31.14</td>\n",
       "      <td>30.48</td>\n",
       "      <td>26.20</td>\n",
       "    </tr>\n",
       "  </tbody>\n",
       "</table>\n",
       "</div>"
      ],
      "text/plain": [
       "   YEAR    JAN    FEB    MAR    APR    MAY    JUN    JUL    AUG    SEP    OCT  \\\n",
       "0  1901  22.40  24.14  29.07  31.91  33.41  33.18  31.21  30.39  30.47  29.97   \n",
       "1  1902  24.93  26.58  29.77  31.78  33.73  32.91  30.92  30.73  29.80  29.12   \n",
       "2  1903  23.44  25.03  27.83  31.39  32.91  33.00  31.34  29.98  29.85  29.04   \n",
       "3  1904  22.50  24.73  28.21  32.02  32.64  32.07  30.36  30.09  30.04  29.20   \n",
       "4  1905  22.00  22.83  26.68  30.01  33.32  33.25  31.44  30.68  30.12  30.67   \n",
       "5  1906  22.28  23.69  27.31  31.93  34.11  32.19  31.01  30.30  29.92  29.55   \n",
       "6  1907  24.46  24.01  27.04  31.79  32.68  31.92  31.05  29.58  30.67  29.87   \n",
       "7  1908  23.57  25.26  28.86  32.42  33.02  33.12  30.61  29.55  29.59  29.35   \n",
       "8  1909  22.67  24.36  29.22  30.79  33.06  31.70  29.81  29.81  30.06  29.25   \n",
       "9  1910  23.24  25.16  28.48  31.42  33.51  31.84  30.42  29.86  29.82  28.91   \n",
       "\n",
       "     NOV    DEC  ANNUAL  JAN-FEB  MAR-MAY  JUN-SEP  OCT-DEC  \n",
       "0  27.31  24.49   28.96    23.27    31.46    31.27    27.25  \n",
       "1  26.31  24.04   29.22    25.75    31.76    31.09    26.49  \n",
       "2  26.08  23.65   28.47    24.24    30.71    30.92    26.26  \n",
       "3  26.36  23.63   28.49    23.62    30.95    30.66    26.40  \n",
       "4  27.52  23.82   28.30    22.25    30.00    31.33    26.57  \n",
       "5  27.60  24.72   28.73    23.03    31.11    30.86    27.29  \n",
       "6  27.78  24.44   28.65    24.23    29.92    30.80    27.36  \n",
       "7  26.88  23.73   28.83    24.42    31.43    30.72    26.64  \n",
       "8  27.69  23.69   28.38    23.52    31.02    30.33    26.88  \n",
       "9  26.32  23.37   28.53    24.20    31.14    30.48    26.20  "
      ]
     },
     "execution_count": 7,
     "metadata": {},
     "output_type": "execute_result"
    }
   ],
   "source": [
    "trainData.head(n=10)"
   ]
  },
  {
   "cell_type": "code",
   "execution_count": 9,
   "id": "1b76df8e-d481-4b82-994b-2006421da026",
   "metadata": {},
   "outputs": [
    {
     "data": {
      "text/html": [
       "<div>\n",
       "<style scoped>\n",
       "    .dataframe tbody tr th:only-of-type {\n",
       "        vertical-align: middle;\n",
       "    }\n",
       "\n",
       "    .dataframe tbody tr th {\n",
       "        vertical-align: top;\n",
       "    }\n",
       "\n",
       "    .dataframe thead th {\n",
       "        text-align: right;\n",
       "    }\n",
       "</style>\n",
       "<table border=\"1\" class=\"dataframe\">\n",
       "  <thead>\n",
       "    <tr style=\"text-align: right;\">\n",
       "      <th></th>\n",
       "      <th>YEAR</th>\n",
       "      <th>JAN</th>\n",
       "      <th>FEB</th>\n",
       "      <th>MAR</th>\n",
       "      <th>APR</th>\n",
       "      <th>MAY</th>\n",
       "      <th>JUN</th>\n",
       "      <th>JUL</th>\n",
       "      <th>AUG</th>\n",
       "      <th>SEP</th>\n",
       "      <th>OCT</th>\n",
       "      <th>NOV</th>\n",
       "      <th>DEC</th>\n",
       "      <th>ANNUAL</th>\n",
       "      <th>JAN-FEB</th>\n",
       "      <th>MAR-MAY</th>\n",
       "      <th>JUN-SEP</th>\n",
       "      <th>OCT-DEC</th>\n",
       "    </tr>\n",
       "  </thead>\n",
       "  <tbody>\n",
       "    <tr>\n",
       "      <th>112</th>\n",
       "      <td>2013</td>\n",
       "      <td>24.56</td>\n",
       "      <td>26.59</td>\n",
       "      <td>30.62</td>\n",
       "      <td>32.66</td>\n",
       "      <td>34.46</td>\n",
       "      <td>32.44</td>\n",
       "      <td>31.07</td>\n",
       "      <td>30.76</td>\n",
       "      <td>31.04</td>\n",
       "      <td>30.27</td>\n",
       "      <td>27.83</td>\n",
       "      <td>25.37</td>\n",
       "      <td>29.81</td>\n",
       "      <td>25.58</td>\n",
       "      <td>32.58</td>\n",
       "      <td>31.33</td>\n",
       "      <td>27.83</td>\n",
       "    </tr>\n",
       "    <tr>\n",
       "      <th>113</th>\n",
       "      <td>2014</td>\n",
       "      <td>23.83</td>\n",
       "      <td>25.97</td>\n",
       "      <td>28.95</td>\n",
       "      <td>32.74</td>\n",
       "      <td>33.77</td>\n",
       "      <td>34.15</td>\n",
       "      <td>31.85</td>\n",
       "      <td>31.32</td>\n",
       "      <td>30.68</td>\n",
       "      <td>30.29</td>\n",
       "      <td>28.05</td>\n",
       "      <td>25.08</td>\n",
       "      <td>29.72</td>\n",
       "      <td>24.90</td>\n",
       "      <td>31.82</td>\n",
       "      <td>32.00</td>\n",
       "      <td>27.81</td>\n",
       "    </tr>\n",
       "    <tr>\n",
       "      <th>114</th>\n",
       "      <td>2015</td>\n",
       "      <td>24.58</td>\n",
       "      <td>26.89</td>\n",
       "      <td>29.07</td>\n",
       "      <td>31.87</td>\n",
       "      <td>34.09</td>\n",
       "      <td>32.48</td>\n",
       "      <td>31.88</td>\n",
       "      <td>31.52</td>\n",
       "      <td>31.55</td>\n",
       "      <td>31.04</td>\n",
       "      <td>28.10</td>\n",
       "      <td>25.67</td>\n",
       "      <td>29.90</td>\n",
       "      <td>25.74</td>\n",
       "      <td>31.68</td>\n",
       "      <td>31.87</td>\n",
       "      <td>28.27</td>\n",
       "    </tr>\n",
       "    <tr>\n",
       "      <th>115</th>\n",
       "      <td>2016</td>\n",
       "      <td>26.94</td>\n",
       "      <td>29.72</td>\n",
       "      <td>32.62</td>\n",
       "      <td>35.38</td>\n",
       "      <td>35.72</td>\n",
       "      <td>34.03</td>\n",
       "      <td>31.64</td>\n",
       "      <td>31.79</td>\n",
       "      <td>31.66</td>\n",
       "      <td>31.98</td>\n",
       "      <td>30.11</td>\n",
       "      <td>28.01</td>\n",
       "      <td>31.63</td>\n",
       "      <td>28.33</td>\n",
       "      <td>34.57</td>\n",
       "      <td>32.28</td>\n",
       "      <td>30.03</td>\n",
       "    </tr>\n",
       "    <tr>\n",
       "      <th>116</th>\n",
       "      <td>2017</td>\n",
       "      <td>26.45</td>\n",
       "      <td>29.46</td>\n",
       "      <td>31.60</td>\n",
       "      <td>34.95</td>\n",
       "      <td>35.84</td>\n",
       "      <td>33.82</td>\n",
       "      <td>31.88</td>\n",
       "      <td>31.72</td>\n",
       "      <td>32.22</td>\n",
       "      <td>32.29</td>\n",
       "      <td>29.60</td>\n",
       "      <td>27.18</td>\n",
       "      <td>31.42</td>\n",
       "      <td>27.95</td>\n",
       "      <td>34.13</td>\n",
       "      <td>32.41</td>\n",
       "      <td>29.69</td>\n",
       "    </tr>\n",
       "  </tbody>\n",
       "</table>\n",
       "</div>"
      ],
      "text/plain": [
       "     YEAR    JAN    FEB    MAR    APR    MAY    JUN    JUL    AUG    SEP  \\\n",
       "112  2013  24.56  26.59  30.62  32.66  34.46  32.44  31.07  30.76  31.04   \n",
       "113  2014  23.83  25.97  28.95  32.74  33.77  34.15  31.85  31.32  30.68   \n",
       "114  2015  24.58  26.89  29.07  31.87  34.09  32.48  31.88  31.52  31.55   \n",
       "115  2016  26.94  29.72  32.62  35.38  35.72  34.03  31.64  31.79  31.66   \n",
       "116  2017  26.45  29.46  31.60  34.95  35.84  33.82  31.88  31.72  32.22   \n",
       "\n",
       "       OCT    NOV    DEC  ANNUAL  JAN-FEB  MAR-MAY  JUN-SEP  OCT-DEC  \n",
       "112  30.27  27.83  25.37   29.81    25.58    32.58    31.33    27.83  \n",
       "113  30.29  28.05  25.08   29.72    24.90    31.82    32.00    27.81  \n",
       "114  31.04  28.10  25.67   29.90    25.74    31.68    31.87    28.27  \n",
       "115  31.98  30.11  28.01   31.63    28.33    34.57    32.28    30.03  \n",
       "116  32.29  29.60  27.18   31.42    27.95    34.13    32.41    29.69  "
      ]
     },
     "execution_count": 9,
     "metadata": {},
     "output_type": "execute_result"
    }
   ],
   "source": [
    "trainData.tail()"
   ]
  },
  {
   "cell_type": "code",
   "execution_count": 11,
   "id": "77f40adb-0014-417b-a6ab-37029e62bcca",
   "metadata": {},
   "outputs": [
    {
     "data": {
      "text/plain": [
       "(117, 18)"
      ]
     },
     "execution_count": 11,
     "metadata": {},
     "output_type": "execute_result"
    }
   ],
   "source": [
    "trainData.shape"
   ]
  },
  {
   "cell_type": "code",
   "execution_count": 13,
   "id": "41005791-95c0-4eb0-93d8-83eefe0cc1b6",
   "metadata": {},
   "outputs": [
    {
     "data": {
      "text/plain": [
       "Index(['YEAR', 'JAN', 'FEB', 'MAR', 'APR', 'MAY', 'JUN', 'JUL', 'AUG', 'SEP',\n",
       "       'OCT', 'NOV', 'DEC', 'ANNUAL', 'JAN-FEB', 'MAR-MAY', 'JUN-SEP',\n",
       "       'OCT-DEC'],\n",
       "      dtype='object')"
      ]
     },
     "execution_count": 13,
     "metadata": {},
     "output_type": "execute_result"
    }
   ],
   "source": [
    "trainData.dtypes\n",
    "trainData.columns"
   ]
  },
  {
   "cell_type": "code",
   "execution_count": 15,
   "id": "3b6a14a1-74f8-4c5d-b292-9f562cb9a6e6",
   "metadata": {},
   "outputs": [
    {
     "data": {
      "text/html": [
       "<div>\n",
       "<style scoped>\n",
       "    .dataframe tbody tr th:only-of-type {\n",
       "        vertical-align: middle;\n",
       "    }\n",
       "\n",
       "    .dataframe tbody tr th {\n",
       "        vertical-align: top;\n",
       "    }\n",
       "\n",
       "    .dataframe thead th {\n",
       "        text-align: right;\n",
       "    }\n",
       "</style>\n",
       "<table border=\"1\" class=\"dataframe\">\n",
       "  <thead>\n",
       "    <tr style=\"text-align: right;\">\n",
       "      <th></th>\n",
       "      <th>YEAR</th>\n",
       "      <th>JAN</th>\n",
       "      <th>FEB</th>\n",
       "      <th>MAR</th>\n",
       "      <th>APR</th>\n",
       "      <th>MAY</th>\n",
       "      <th>JUN</th>\n",
       "      <th>JUL</th>\n",
       "      <th>AUG</th>\n",
       "      <th>SEP</th>\n",
       "      <th>OCT</th>\n",
       "      <th>NOV</th>\n",
       "      <th>DEC</th>\n",
       "      <th>ANNUAL</th>\n",
       "      <th>JAN-FEB</th>\n",
       "      <th>MAR-MAY</th>\n",
       "      <th>JUN-SEP</th>\n",
       "      <th>OCT-DEC</th>\n",
       "    </tr>\n",
       "  </thead>\n",
       "  <tbody>\n",
       "    <tr>\n",
       "      <th>count</th>\n",
       "      <td>117.000000</td>\n",
       "      <td>117.000000</td>\n",
       "      <td>117.000000</td>\n",
       "      <td>117.000000</td>\n",
       "      <td>117.000000</td>\n",
       "      <td>117.000000</td>\n",
       "      <td>117.000000</td>\n",
       "      <td>117.000000</td>\n",
       "      <td>117.000000</td>\n",
       "      <td>117.000000</td>\n",
       "      <td>117.000000</td>\n",
       "      <td>117.000000</td>\n",
       "      <td>117.000000</td>\n",
       "      <td>117.000000</td>\n",
       "      <td>117.000000</td>\n",
       "      <td>117.000000</td>\n",
       "      <td>117.000000</td>\n",
       "      <td>117.000000</td>\n",
       "    </tr>\n",
       "    <tr>\n",
       "      <th>mean</th>\n",
       "      <td>1959.000000</td>\n",
       "      <td>23.687436</td>\n",
       "      <td>25.597863</td>\n",
       "      <td>29.085983</td>\n",
       "      <td>31.975812</td>\n",
       "      <td>33.565299</td>\n",
       "      <td>32.774274</td>\n",
       "      <td>31.035897</td>\n",
       "      <td>30.507692</td>\n",
       "      <td>30.486752</td>\n",
       "      <td>29.766581</td>\n",
       "      <td>27.285470</td>\n",
       "      <td>24.608291</td>\n",
       "      <td>29.181368</td>\n",
       "      <td>24.629573</td>\n",
       "      <td>31.517607</td>\n",
       "      <td>31.198205</td>\n",
       "      <td>27.208120</td>\n",
       "    </tr>\n",
       "    <tr>\n",
       "      <th>std</th>\n",
       "      <td>33.919021</td>\n",
       "      <td>0.834588</td>\n",
       "      <td>1.150757</td>\n",
       "      <td>1.068451</td>\n",
       "      <td>0.889478</td>\n",
       "      <td>0.724905</td>\n",
       "      <td>0.633132</td>\n",
       "      <td>0.468818</td>\n",
       "      <td>0.476312</td>\n",
       "      <td>0.544295</td>\n",
       "      <td>0.705492</td>\n",
       "      <td>0.714518</td>\n",
       "      <td>0.782644</td>\n",
       "      <td>0.555555</td>\n",
       "      <td>0.911239</td>\n",
       "      <td>0.740585</td>\n",
       "      <td>0.420508</td>\n",
       "      <td>0.672003</td>\n",
       "    </tr>\n",
       "    <tr>\n",
       "      <th>min</th>\n",
       "      <td>1901.000000</td>\n",
       "      <td>22.000000</td>\n",
       "      <td>22.830000</td>\n",
       "      <td>26.680000</td>\n",
       "      <td>30.010000</td>\n",
       "      <td>31.930000</td>\n",
       "      <td>31.100000</td>\n",
       "      <td>29.760000</td>\n",
       "      <td>29.310000</td>\n",
       "      <td>29.070000</td>\n",
       "      <td>27.900000</td>\n",
       "      <td>25.700000</td>\n",
       "      <td>23.020000</td>\n",
       "      <td>28.110000</td>\n",
       "      <td>22.250000</td>\n",
       "      <td>29.920000</td>\n",
       "      <td>30.240000</td>\n",
       "      <td>25.740000</td>\n",
       "    </tr>\n",
       "    <tr>\n",
       "      <th>25%</th>\n",
       "      <td>1930.000000</td>\n",
       "      <td>23.100000</td>\n",
       "      <td>24.780000</td>\n",
       "      <td>28.370000</td>\n",
       "      <td>31.460000</td>\n",
       "      <td>33.110000</td>\n",
       "      <td>32.340000</td>\n",
       "      <td>30.740000</td>\n",
       "      <td>30.180000</td>\n",
       "      <td>30.120000</td>\n",
       "      <td>29.380000</td>\n",
       "      <td>26.790000</td>\n",
       "      <td>24.040000</td>\n",
       "      <td>28.760000</td>\n",
       "      <td>24.110000</td>\n",
       "      <td>31.040000</td>\n",
       "      <td>30.920000</td>\n",
       "      <td>26.700000</td>\n",
       "    </tr>\n",
       "    <tr>\n",
       "      <th>50%</th>\n",
       "      <td>1959.000000</td>\n",
       "      <td>23.680000</td>\n",
       "      <td>25.480000</td>\n",
       "      <td>29.040000</td>\n",
       "      <td>31.950000</td>\n",
       "      <td>33.510000</td>\n",
       "      <td>32.730000</td>\n",
       "      <td>31.000000</td>\n",
       "      <td>30.540000</td>\n",
       "      <td>30.520000</td>\n",
       "      <td>29.780000</td>\n",
       "      <td>27.300000</td>\n",
       "      <td>24.660000</td>\n",
       "      <td>29.090000</td>\n",
       "      <td>24.530000</td>\n",
       "      <td>31.470000</td>\n",
       "      <td>31.190000</td>\n",
       "      <td>27.210000</td>\n",
       "    </tr>\n",
       "    <tr>\n",
       "      <th>75%</th>\n",
       "      <td>1988.000000</td>\n",
       "      <td>24.180000</td>\n",
       "      <td>26.310000</td>\n",
       "      <td>29.610000</td>\n",
       "      <td>32.420000</td>\n",
       "      <td>34.030000</td>\n",
       "      <td>33.180000</td>\n",
       "      <td>31.330000</td>\n",
       "      <td>30.760000</td>\n",
       "      <td>30.810000</td>\n",
       "      <td>30.170000</td>\n",
       "      <td>27.720000</td>\n",
       "      <td>25.110000</td>\n",
       "      <td>29.470000</td>\n",
       "      <td>25.150000</td>\n",
       "      <td>31.890000</td>\n",
       "      <td>31.400000</td>\n",
       "      <td>27.610000</td>\n",
       "    </tr>\n",
       "    <tr>\n",
       "      <th>max</th>\n",
       "      <td>2017.000000</td>\n",
       "      <td>26.940000</td>\n",
       "      <td>29.720000</td>\n",
       "      <td>32.620000</td>\n",
       "      <td>35.380000</td>\n",
       "      <td>35.840000</td>\n",
       "      <td>34.480000</td>\n",
       "      <td>32.760000</td>\n",
       "      <td>31.840000</td>\n",
       "      <td>32.220000</td>\n",
       "      <td>32.290000</td>\n",
       "      <td>30.110000</td>\n",
       "      <td>28.010000</td>\n",
       "      <td>31.630000</td>\n",
       "      <td>28.330000</td>\n",
       "      <td>34.570000</td>\n",
       "      <td>32.410000</td>\n",
       "      <td>30.030000</td>\n",
       "    </tr>\n",
       "  </tbody>\n",
       "</table>\n",
       "</div>"
      ],
      "text/plain": [
       "              YEAR         JAN         FEB         MAR         APR  \\\n",
       "count   117.000000  117.000000  117.000000  117.000000  117.000000   \n",
       "mean   1959.000000   23.687436   25.597863   29.085983   31.975812   \n",
       "std      33.919021    0.834588    1.150757    1.068451    0.889478   \n",
       "min    1901.000000   22.000000   22.830000   26.680000   30.010000   \n",
       "25%    1930.000000   23.100000   24.780000   28.370000   31.460000   \n",
       "50%    1959.000000   23.680000   25.480000   29.040000   31.950000   \n",
       "75%    1988.000000   24.180000   26.310000   29.610000   32.420000   \n",
       "max    2017.000000   26.940000   29.720000   32.620000   35.380000   \n",
       "\n",
       "              MAY         JUN         JUL         AUG         SEP         OCT  \\\n",
       "count  117.000000  117.000000  117.000000  117.000000  117.000000  117.000000   \n",
       "mean    33.565299   32.774274   31.035897   30.507692   30.486752   29.766581   \n",
       "std      0.724905    0.633132    0.468818    0.476312    0.544295    0.705492   \n",
       "min     31.930000   31.100000   29.760000   29.310000   29.070000   27.900000   \n",
       "25%     33.110000   32.340000   30.740000   30.180000   30.120000   29.380000   \n",
       "50%     33.510000   32.730000   31.000000   30.540000   30.520000   29.780000   \n",
       "75%     34.030000   33.180000   31.330000   30.760000   30.810000   30.170000   \n",
       "max     35.840000   34.480000   32.760000   31.840000   32.220000   32.290000   \n",
       "\n",
       "              NOV         DEC      ANNUAL     JAN-FEB     MAR-MAY     JUN-SEP  \\\n",
       "count  117.000000  117.000000  117.000000  117.000000  117.000000  117.000000   \n",
       "mean    27.285470   24.608291   29.181368   24.629573   31.517607   31.198205   \n",
       "std      0.714518    0.782644    0.555555    0.911239    0.740585    0.420508   \n",
       "min     25.700000   23.020000   28.110000   22.250000   29.920000   30.240000   \n",
       "25%     26.790000   24.040000   28.760000   24.110000   31.040000   30.920000   \n",
       "50%     27.300000   24.660000   29.090000   24.530000   31.470000   31.190000   \n",
       "75%     27.720000   25.110000   29.470000   25.150000   31.890000   31.400000   \n",
       "max     30.110000   28.010000   31.630000   28.330000   34.570000   32.410000   \n",
       "\n",
       "          OCT-DEC  \n",
       "count  117.000000  \n",
       "mean    27.208120  \n",
       "std      0.672003  \n",
       "min     25.740000  \n",
       "25%     26.700000  \n",
       "50%     27.210000  \n",
       "75%     27.610000  \n",
       "max     30.030000  "
      ]
     },
     "execution_count": 15,
     "metadata": {},
     "output_type": "execute_result"
    }
   ],
   "source": [
    "trainData.describe()"
   ]
  },
  {
   "cell_type": "code",
   "execution_count": 17,
   "id": "bea4f47f-2b7e-4da0-891c-687e1c48e2a7",
   "metadata": {},
   "outputs": [
    {
     "data": {
      "text/plain": [
       "YEAR       0\n",
       "JAN        0\n",
       "FEB        0\n",
       "MAR        0\n",
       "APR        0\n",
       "MAY        0\n",
       "JUN        0\n",
       "JUL        0\n",
       "AUG        0\n",
       "SEP        0\n",
       "OCT        0\n",
       "NOV        0\n",
       "DEC        0\n",
       "ANNUAL     0\n",
       "JAN-FEB    0\n",
       "MAR-MAY    0\n",
       "JUN-SEP    0\n",
       "OCT-DEC    0\n",
       "dtype: int64"
      ]
     },
     "execution_count": 17,
     "metadata": {},
     "output_type": "execute_result"
    }
   ],
   "source": [
    "trainData.isnull().sum()"
   ]
  },
  {
   "cell_type": "code",
   "execution_count": 13,
   "id": "99ce1fdd-23a0-446f-98f3-408ed0626a32",
   "metadata": {},
   "outputs": [
    {
     "data": {
      "text/plain": [
       "<Axes: title={'center': 'Top 10 temperature records'}, xlabel='YEAR', ylabel='ANNUAL'>"
      ]
     },
     "execution_count": 13,
     "metadata": {},
     "output_type": "execute_result"
    },
    {
     "data": {
      "image/png": "[encoded data removed]",
      "text/plain": [
       "<Figure size 1400x1200 with 1 Axes>"
      ]
     },
     "metadata": {},
     "output_type": "display_data"
    }
   ],
   "source": [
    "top_10_data = trainData.nlargest(10, \"ANNUAL\")\n",
    "plt.figure(figsize=(14,12))\n",
    "plt.title(\"Top 10 temperature records\")\n",
    "sns.barplot(x=top_10_data.YEAR, y=top_10_data.ANNUAL)"
   ]
  },
  {
   "cell_type": "code",
   "execution_count": 19,
   "id": "87091a0c-efac-414e-8e76-878b68f6e96d",
   "metadata": {},
   "outputs": [
    {
     "data": {
      "text/plain": [
       "<Axes: title={'center': 'Top 10 temperature records'}, xlabel='YEAR', ylabel='MAR'>"
      ]
     },
     "execution_count": 19,
     "metadata": {},
     "output_type": "execute_result"
    },
    {
     "data": {
      "image/png": "[encoded data removed]",
      "text/plain": [
       "<Figure size 1400x1200 with 1 Axes>"
      ]
     },
     "metadata": {},
     "output_type": "display_data"
    }
   ],
   "source": [
    "top_10_data = trainData.nlargest(10, \"MAR\")\n",
    "plt.figure(figsize=(14,12))\n",
    "plt.title(\"Top 10 temperature records\")\n",
    "sns.barplot(x=top_10_data.YEAR, y=top_10_data.MAR)"
   ]
  },
  {
   "cell_type": "code",
   "execution_count": 21,
   "id": "9e8a0d2f-e5d0-463f-a190-5de58b47c3d1",
   "metadata": {},
   "outputs": [],
   "source": [
    "from sklearn import linear_model, metrics"
   ]
  },
  {
   "cell_type": "code",
   "execution_count": 23,
   "id": "03c5331c-69ac-4676-940b-0cfc3a861ea5",
   "metadata": {},
   "outputs": [
    {
     "data": {
      "text/plain": [
       "Index(['YEAR', 'JAN', 'FEB', 'MAR', 'APR', 'MAY', 'JUN', 'JUL', 'AUG', 'SEP',\n",
       "       'OCT', 'NOV', 'DEC', 'ANNUAL', 'JAN-FEB', 'MAR-MAY', 'JUN-SEP',\n",
       "       'OCT-DEC'],\n",
       "      dtype='object')"
      ]
     },
     "execution_count": 23,
     "metadata": {},
     "output_type": "execute_result"
    }
   ],
   "source": [
    "trainData.columns"
   ]
  },
  {
   "cell_type": "code",
   "execution_count": 25,
   "id": "51fcfa4c-c129-4eb5-9c5f-eb4432898e7a",
   "metadata": {},
   "outputs": [
    {
     "data": {
      "text/plain": [
       "YEAR         int64\n",
       "JAN        float64\n",
       "FEB        float64\n",
       "MAR        float64\n",
       "APR        float64\n",
       "MAY        float64\n",
       "JUN        float64\n",
       "JUL        float64\n",
       "AUG        float64\n",
       "SEP        float64\n",
       "OCT        float64\n",
       "NOV        float64\n",
       "DEC        float64\n",
       "ANNUAL     float64\n",
       "JAN-FEB    float64\n",
       "MAR-MAY    float64\n",
       "JUN-SEP    float64\n",
       "OCT-DEC    float64\n",
       "dtype: object"
      ]
     },
     "execution_count": 25,
     "metadata": {},
     "output_type": "execute_result"
    }
   ],
   "source": [
    "trainData.dtypes"
   ]
  },
  {
   "cell_type": "code",
   "execution_count": 27,
   "id": "5e6c5587-e510-4c1d-8ae5-e9d1dd46784f",
   "metadata": {},
   "outputs": [],
   "source": [
    "X=trainData[[\"YEAR\"]]\n",
    "Y=trainData[[\"JAN\"]]"
   ]
  },
  {
   "cell_type": "code",
   "execution_count": 29,
   "id": "87f8bd65-ba74-4b32-a7a2-9c10fb368c22",
   "metadata": {},
   "outputs": [],
   "source": [
    "from sklearn.model_selection import train_test_split\n",
    "X_train, X_test, Y_train, Y_test = train_test_split(X, Y, test_size=0.2, random_state=1)"
   ]
  },
  {
   "cell_type": "code",
   "execution_count": 31,
   "id": "cc13dc99-c89c-4baa-b617-dfc794d0e5d5",
   "metadata": {},
   "outputs": [
    {
     "data": {
      "text/plain": [
       "93"
      ]
     },
     "execution_count": 31,
     "metadata": {},
     "output_type": "execute_result"
    }
   ],
   "source": [
    "len(X_train)"
   ]
  },
  {
   "cell_type": "code",
   "execution_count": 33,
   "id": "57af8535-4189-491d-a0d4-db971b32fcf2",
   "metadata": {},
   "outputs": [
    {
     "data": {
      "text/plain": [
       "24"
      ]
     },
     "execution_count": 33,
     "metadata": {},
     "output_type": "execute_result"
    }
   ],
   "source": [
    "len(X_test)"
   ]
  },
  {
   "cell_type": "code",
   "execution_count": 35,
   "id": "da1fd084-d21a-4ed7-b811-65988211f677",
   "metadata": {},
   "outputs": [
    {
     "data": {
      "text/plain": [
       "(117, 18)"
      ]
     },
     "execution_count": 35,
     "metadata": {},
     "output_type": "execute_result"
    }
   ],
   "source": [
    "trainData.shape"
   ]
  },
  {
   "cell_type": "code",
   "execution_count": 23,
   "id": "cddebdc5-c13f-48a5-a213-0c8c7cadc8a5",
   "metadata": {},
   "outputs": [
    {
     "data": {
      "text/html": [
       "<div>\n",
       "<style scoped>\n",
       "    .dataframe tbody tr th:only-of-type {\n",
       "        vertical-align: middle;\n",
       "    }\n",
       "\n",
       "    .dataframe tbody tr th {\n",
       "        vertical-align: top;\n",
       "    }\n",
       "\n",
       "    .dataframe thead th {\n",
       "        text-align: right;\n",
       "    }\n",
       "</style>\n",
       "<table border=\"1\" class=\"dataframe\">\n",
       "  <thead>\n",
       "    <tr style=\"text-align: right;\">\n",
       "      <th></th>\n",
       "      <th>YEAR</th>\n",
       "    </tr>\n",
       "  </thead>\n",
       "  <tbody>\n",
       "    <tr>\n",
       "      <th>56</th>\n",
       "      <td>1957</td>\n",
       "    </tr>\n",
       "    <tr>\n",
       "      <th>94</th>\n",
       "      <td>1995</td>\n",
       "    </tr>\n",
       "    <tr>\n",
       "      <th>35</th>\n",
       "      <td>1936</td>\n",
       "    </tr>\n",
       "    <tr>\n",
       "      <th>38</th>\n",
       "      <td>1939</td>\n",
       "    </tr>\n",
       "    <tr>\n",
       "      <th>93</th>\n",
       "      <td>1994</td>\n",
       "    </tr>\n",
       "    <tr>\n",
       "      <th>...</th>\n",
       "      <td>...</td>\n",
       "    </tr>\n",
       "    <tr>\n",
       "      <th>9</th>\n",
       "      <td>1910</td>\n",
       "    </tr>\n",
       "    <tr>\n",
       "      <th>72</th>\n",
       "      <td>1973</td>\n",
       "    </tr>\n",
       "    <tr>\n",
       "      <th>12</th>\n",
       "      <td>1913</td>\n",
       "    </tr>\n",
       "    <tr>\n",
       "      <th>107</th>\n",
       "      <td>2008</td>\n",
       "    </tr>\n",
       "    <tr>\n",
       "      <th>37</th>\n",
       "      <td>1938</td>\n",
       "    </tr>\n",
       "  </tbody>\n",
       "</table>\n",
       "<p>93 rows × 1 columns</p>\n",
       "</div>"
      ],
      "text/plain": [
       "     YEAR\n",
       "56   1957\n",
       "94   1995\n",
       "35   1936\n",
       "38   1939\n",
       "93   1994\n",
       "..    ...\n",
       "9    1910\n",
       "72   1973\n",
       "12   1913\n",
       "107  2008\n",
       "37   1938\n",
       "\n",
       "[93 rows x 1 columns]"
      ]
     },
     "execution_count": 23,
     "metadata": {},
     "output_type": "execute_result"
    }
   ],
   "source": [
    "X_train"
   ]
  },
  {
   "cell_type": "code",
   "execution_count": 37,
   "id": "c90fb363-cc84-4c76-9084-c5e5acffbbd0",
   "metadata": {},
   "outputs": [
    {
     "data": {
      "text/html": [
       "<div>\n",
       "<style scoped>\n",
       "    .dataframe tbody tr th:only-of-type {\n",
       "        vertical-align: middle;\n",
       "    }\n",
       "\n",
       "    .dataframe tbody tr th {\n",
       "        vertical-align: top;\n",
       "    }\n",
       "\n",
       "    .dataframe thead th {\n",
       "        text-align: right;\n",
       "    }\n",
       "</style>\n",
       "<table border=\"1\" class=\"dataframe\">\n",
       "  <thead>\n",
       "    <tr style=\"text-align: right;\">\n",
       "      <th></th>\n",
       "      <th>JAN</th>\n",
       "    </tr>\n",
       "  </thead>\n",
       "  <tbody>\n",
       "    <tr>\n",
       "      <th>56</th>\n",
       "      <td>22.98</td>\n",
       "    </tr>\n",
       "    <tr>\n",
       "      <th>94</th>\n",
       "      <td>24.44</td>\n",
       "    </tr>\n",
       "    <tr>\n",
       "      <th>35</th>\n",
       "      <td>23.10</td>\n",
       "    </tr>\n",
       "    <tr>\n",
       "      <th>38</th>\n",
       "      <td>23.61</td>\n",
       "    </tr>\n",
       "    <tr>\n",
       "      <th>93</th>\n",
       "      <td>24.67</td>\n",
       "    </tr>\n",
       "    <tr>\n",
       "      <th>...</th>\n",
       "      <td>...</td>\n",
       "    </tr>\n",
       "    <tr>\n",
       "      <th>9</th>\n",
       "      <td>23.24</td>\n",
       "    </tr>\n",
       "    <tr>\n",
       "      <th>72</th>\n",
       "      <td>24.02</td>\n",
       "    </tr>\n",
       "    <tr>\n",
       "      <th>12</th>\n",
       "      <td>23.71</td>\n",
       "    </tr>\n",
       "    <tr>\n",
       "      <th>107</th>\n",
       "      <td>23.97</td>\n",
       "    </tr>\n",
       "    <tr>\n",
       "      <th>37</th>\n",
       "      <td>22.95</td>\n",
       "    </tr>\n",
       "  </tbody>\n",
       "</table>\n",
       "<p>93 rows × 1 columns</p>\n",
       "</div>"
      ],
      "text/plain": [
       "       JAN\n",
       "56   22.98\n",
       "94   24.44\n",
       "35   23.10\n",
       "38   23.61\n",
       "93   24.67\n",
       "..     ...\n",
       "9    23.24\n",
       "72   24.02\n",
       "12   23.71\n",
       "107  23.97\n",
       "37   22.95\n",
       "\n",
       "[93 rows x 1 columns]"
      ]
     },
     "execution_count": 37,
     "metadata": {},
     "output_type": "execute_result"
    }
   ],
   "source": [
    "Y_train"
   ]
  },
  {
   "cell_type": "code",
   "execution_count": 39,
   "id": "697a5cc2-ea80-46ea-a3db-99cf7d6c70af",
   "metadata": {},
   "outputs": [
    {
     "name": "stdout",
     "output_type": "stream",
     "text": [
      "     YEAR\n",
      "56   1957\n",
      "94   1995\n",
      "35   1936\n",
      "38   1939\n",
      "93   1994\n",
      "..    ...\n",
      "9    1910\n",
      "72   1973\n",
      "12   1913\n",
      "107  2008\n",
      "37   1938\n",
      "\n",
      "[93 rows x 1 columns]\n"
     ]
    }
   ],
   "source": [
    "\n",
    "reg = linear_model.LinearRegression()\n",
    "\n",
    "print(X_train)\n"
   ]
  },
  {
   "cell_type": "code",
   "execution_count": 41,
   "id": "6a427824-b5e2-46e3-bea9-9fcf7878fe86",
   "metadata": {},
   "outputs": [],
   "source": [
    "model = reg.fit(X_train, Y_train)"
   ]
  },
  {
   "cell_type": "code",
   "execution_count": 43,
   "id": "6f551969-b7e0-4014-aec5-9175b2c622e5",
   "metadata": {},
   "outputs": [],
   "source": [
    "r_sq = reg.score(X_train, Y_train)"
   ]
  },
  {
   "cell_type": "code",
   "execution_count": 45,
   "id": "ff7edbbf-cd89-40d2-8f0e-54b9dcc5f789",
   "metadata": {},
   "outputs": [
    {
     "name": "stdout",
     "output_type": "stream",
     "text": [
      "determination coefficient: 0.35480458491221156\n"
     ]
    }
   ],
   "source": [
    "print(\"determination coefficient:\", r_sq)\n"
   ]
  },
  {
   "cell_type": "code",
   "execution_count": 47,
   "id": "0816c4fa-0a69-40da-8914-db905c4de9a3",
   "metadata": {},
   "outputs": [
    {
     "name": "stdout",
     "output_type": "stream",
     "text": [
      "intercept: [-5.35338281]\n"
     ]
    }
   ],
   "source": [
    "print(\"intercept:\", model.intercept_)"
   ]
  },
  {
   "cell_type": "code",
   "execution_count": 49,
   "id": "e38b0097-91f5-4290-a0db-ca118e8a22c9",
   "metadata": {},
   "outputs": [
    {
     "name": "stdout",
     "output_type": "stream",
     "text": [
      "slope: [[0.01486008]]\n"
     ]
    }
   ],
   "source": [
    "print('slope:', model.coef_)"
   ]
  },
  {
   "cell_type": "code",
   "execution_count": 31,
   "id": "619e82f4-9531-4ad2-8e39-597a381bed4b",
   "metadata": {},
   "outputs": [
    {
     "name": "stdout",
     "output_type": "stream",
     "text": [
      "predicted response:\n",
      "[[23.92097555]\n",
      " [23.5791937 ]\n",
      " [23.75751466]\n",
      " [24.58967916]\n",
      " [23.98041587]\n",
      " [24.35191788]\n",
      " [23.35629249]\n",
      " [23.68321426]\n",
      " [23.86153523]\n",
      " [24.32219772]\n",
      " [24.30733764]\n",
      " [24.3370578 ]\n",
      " [22.92535016]\n",
      " [23.81695498]\n",
      " [24.53023884]\n",
      " [23.71293442]\n",
      " [24.42621828]\n",
      " [24.38163804]\n",
      " [23.87639531]\n",
      " [23.54947354]\n",
      " [24.03985619]\n",
      " [23.14825137]\n",
      " [24.09929651]\n",
      " [23.99527595]]\n"
     ]
    }
   ],
   "source": [
    "Y_pred = model.predict(X_test)\n",
    "print('predicted response:', Y_pred, sep='\\n')"
   ]
  },
  {
   "cell_type": "code",
   "execution_count": 51,
   "id": "f1d25de1-3db8-442f-b978-406100bee218",
   "metadata": {},
   "outputs": [
    {
     "name": "stdout",
     "output_type": "stream",
     "text": [
      "       JAN\n",
      "69   24.19\n",
      "46   22.61\n",
      "58   23.33\n",
      "114  24.58\n",
      "73   23.54\n",
      "98   23.57\n",
      "31   24.13\n",
      "53   22.79\n",
      "65   24.11\n",
      "96   23.30\n",
      "95   25.18\n",
      "97   23.95\n",
      "2    23.44\n",
      "62   22.90\n",
      "110  24.18\n",
      "55   23.16\n",
      "103  23.89\n",
      "100  24.36\n",
      "66   23.72\n",
      "44   22.38\n",
      "77   23.60\n",
      "17   22.06\n",
      "81   24.23\n",
      "74   23.15\n"
     ]
    }
   ],
   "source": [
    "print(Y_test)"
   ]
  },
  {
   "cell_type": "code",
   "execution_count": 33,
   "id": "fedeefe0-8474-4afd-8f16-0da5d141dc13",
   "metadata": {},
   "outputs": [
    {
     "data": {
      "image/png": "[encoded data removed]",
      "text/plain": [
       "<Figure size 640x480 with 1 Axes>"
      ]
     },
     "metadata": {},
     "output_type": "display_data"
    }
   ],
   "source": [
    "plt.scatter(X_train, Y_train, color='black')\n",
    "plt.plot(X_train, reg.predict(X_train), color='blue', linewidth=3)\n",
    "plt.title(\"Temperature vs Year\")\n",
    "plt.xlabel(\"Year\")\n",
    "plt.ylabel(\"Temperature\")\n",
    "plt.show()"
   ]
  },
  {
   "cell_type": "code",
   "execution_count": 53,
   "id": "98021ff9-a32e-4893-9409-e9212f4204a8",
   "metadata": {},
   "outputs": [
    {
     "data": {
      "image/png": "[encoded data removed]",
      "text/plain": [
       "<Figure size 640x480 with 1 Axes>"
      ]
     },
     "metadata": {},
     "output_type": "display_data"
    }
   ],
   "source": [
    "plt.scatter(X_test, Y_test, color='red')\n",
    "plt.plot(X_test, reg.predict(X_test), color='black', linewidth=3)\n",
    "plt.title(\"Temperature vs Year\")\n",
    "plt.xlabel(\"Year\")\n",
    "plt.ylabel(\"Temperature\")\n",
    "plt.show()"
   ]
  },
  {
   "cell_type": "code",
   "execution_count": null,
   "id": "4e4392aa-7fa0-46ae-a16b-5a1bd1de187d",
   "metadata": {},
   "outputs": [],
   "source": []
  }
 ],
 "metadata": {
  "kernelspec": {
   "display_name": "Python 3 (ipykernel)",
   "language": "python",
   "name": "python3"
  },
  "language_info": {
   "codemirror_mode": {
    "name": "ipython",
    "version": 3
   },
   "file_extension": ".py",
   "mimetype": "text/x-python",
   "name": "python",
   "nbconvert_exporter": "python",
   "pygments_lexer": "ipython3",
   "version": "3.12.4"
  }
 },
 "nbformat": 4,
 "nbformat_minor": 5
}
