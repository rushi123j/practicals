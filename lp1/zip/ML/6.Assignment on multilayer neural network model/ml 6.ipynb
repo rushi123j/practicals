{
 "cells": [
  {
   "cell_type": "code",
   "execution_count": 1,
   "id": "1c0b6f53",
   "metadata": {},
   "outputs": [
    {
     "name": "stdout",
     "output_type": "stream",
     "text": [
      "Defaulting to user installation because normal site-packages is not writeable\n",
      "Requirement already satisfied: keras in c:\\users\\friends network\\appdata\\roaming\\python\\python311\\site-packages (2.15.0)\n",
      "Note: you may need to restart the kernel to use updated packages.\n"
     ]
    }
   ],
   "source": [
    "pip install keras"
   ]
  },
  {
   "cell_type": "code",
   "execution_count": 3,
   "id": "2fe8d9de",
   "metadata": {
    "id": "2fe8d9de",
    "scrolled": true
   },
   "outputs": [
    {
     "name": "stdout",
     "output_type": "stream",
     "text": [
      "WARNING:tensorflow:From C:\\Users\\Friends Network\\AppData\\Roaming\\Python\\Python311\\site-packages\\keras\\src\\losses.py:2976: The name tf.losses.sparse_softmax_cross_entropy is deprecated. Please use tf.compat.v1.losses.sparse_softmax_cross_entropy instead.\n",
      "\n"
     ]
    }
   ],
   "source": [
    "import pandas as pd\n",
    "from keras.models import Sequential\n",
    "from keras.layers import Dense"
   ]
  },
  {
   "cell_type": "markdown",
   "id": "F2Uyt_7h4kM3",
   "metadata": {
    "id": "F2Uyt_7h4kM3"
   },
   "source": [
    "# New Section"
   ]
  },
  {
   "cell_type": "code",
   "execution_count": null,
   "id": "S7V6HXrJ5sO0",
   "metadata": {
    "colab": {
     "background_save": true,
     "base_uri": "https://localhost:8080/",
     "height": 38
    },
    "id": "S7V6HXrJ5sO0",
    "outputId": "6193f6d1-746e-4b65-8f3d-4593b7f02b21"
   },
   "outputs": [],
   "source": []
  },
  {
   "cell_type": "code",
   "execution_count": 4,
   "id": "5b3f5334",
   "metadata": {
    "colab": {
     "background_save": true
    },
    "id": "5b3f5334"
   },
   "outputs": [],
   "source": [
    "df=pd.read_csv(\"pima-indians-diabetes.csv\")"
   ]
  },
  {
   "cell_type": "code",
   "execution_count": 5,
   "id": "1cc3599e",
   "metadata": {
    "colab": {
     "background_save": true
    },
    "id": "1cc3599e"
   },
   "outputs": [
    {
     "data": {
      "text/plain": [
       "<bound method DataFrame.info of       6  148  72  35    0  33.6  0.627  50  1\n",
       "0     1   85  66  29    0  26.6  0.351  31  0\n",
       "1     8  183  64   0    0  23.3  0.672  32  1\n",
       "2     1   89  66  23   94  28.1  0.167  21  0\n",
       "3     0  137  40  35  168  43.1  2.288  33  1\n",
       "4     5  116  74   0    0  25.6  0.201  30  0\n",
       "..   ..  ...  ..  ..  ...   ...    ...  .. ..\n",
       "762  10  101  76  48  180  32.9  0.171  63  0\n",
       "763   2  122  70  27    0  36.8  0.340  27  0\n",
       "764   5  121  72  23  112  26.2  0.245  30  0\n",
       "765   1  126  60   0    0  30.1  0.349  47  1\n",
       "766   1   93  70  31    0  30.4  0.315  23  0\n",
       "\n",
       "[767 rows x 9 columns]>"
      ]
     },
     "execution_count": 5,
     "metadata": {},
     "output_type": "execute_result"
    }
   ],
   "source": [
    "df.info"
   ]
  },
  {
   "cell_type": "code",
   "execution_count": 6,
   "id": "b6ab971c",
   "metadata": {
    "colab": {
     "background_save": true
    },
    "id": "b6ab971c"
   },
   "outputs": [
    {
     "data": {
      "text/plain": [
       "Index(['6', '148', '72', '35', '0', '33.6', '0.627', '50', '1'], dtype='object')"
      ]
     },
     "execution_count": 6,
     "metadata": {},
     "output_type": "execute_result"
    }
   ],
   "source": [
    "df.columns"
   ]
  },
  {
   "cell_type": "code",
   "execution_count": 7,
   "id": "69c73f80",
   "metadata": {
    "colab": {
     "background_save": true
    },
    "id": "69c73f80"
   },
   "outputs": [],
   "source": [
    "X=df.iloc[:,0:-1].values"
   ]
  },
  {
   "cell_type": "code",
   "execution_count": 8,
   "id": "7a3d8bea",
   "metadata": {
    "colab": {
     "background_save": true
    },
    "id": "7a3d8bea"
   },
   "outputs": [],
   "source": [
    "y=df.iloc[:,8].values\n"
   ]
  },
  {
   "cell_type": "code",
   "execution_count": 9,
   "id": "I5kiDRSb1T82",
   "metadata": {
    "colab": {
     "base_uri": "https://localhost:8080/"
    },
    "executionInfo": {
     "elapsed": 5160,
     "status": "ok",
     "timestamp": 1668090064510,
     "user": {
      "displayName": "Suchita Chavan",
      "userId": "07311366150289499697"
     },
     "user_tz": -330
    },
    "id": "I5kiDRSb1T82",
    "outputId": "0b5abad9-d546-4f14-f865-1ef087c0788c"
   },
   "outputs": [
    {
     "name": "stdout",
     "output_type": "stream",
     "text": [
      "Defaulting to user installation because normal site-packages is not writeable\n",
      "Collecting ann_visualizer\n",
      "  Downloading ann_visualizer-2.5.tar.gz (4.7 kB)\n",
      "  Preparing metadata (setup.py): started\n",
      "  Preparing metadata (setup.py): finished with status 'done'\n",
      "Building wheels for collected packages: ann_visualizer\n",
      "  Building wheel for ann_visualizer (setup.py): started\n",
      "  Building wheel for ann_visualizer (setup.py): finished with status 'done'\n",
      "  Created wheel for ann_visualizer: filename=ann_visualizer-2.5-py3-none-any.whl size=4181 sha256=685a3702180a8bf8ed254aa5f3dbe84585ec228fa0e66933bab2f5639ee5cc41\n",
      "  Stored in directory: c:\\users\\friends network\\appdata\\local\\pip\\cache\\wheels\\28\\4a\\ad\\e82da1aad2994e42bf0f4b1d403fdd8a64dfc38ae2c8a5daa4\n",
      "Successfully built ann_visualizer\n",
      "Installing collected packages: ann_visualizer\n",
      "Successfully installed ann_visualizer-2.5\n"
     ]
    }
   ],
   "source": [
    "!pip install ann_visualizer"
   ]
  },
  {
   "cell_type": "code",
   "execution_count": 11,
   "id": "_yuv9utCn-el",
   "metadata": {
    "colab": {
     "base_uri": "https://localhost:8080/"
    },
    "executionInfo": {
     "elapsed": 36388,
     "status": "ok",
     "timestamp": 1668090105567,
     "user": {
      "displayName": "Suchita Chavan",
      "userId": "07311366150289499697"
     },
     "user_tz": -330
    },
    "id": "_yuv9utCn-el",
    "outputId": "3e92f22c-f565-4f5f-895c-d1faf9875f92"
   },
   "outputs": [
    {
     "name": "stdout",
     "output_type": "stream",
     "text": [
      "Epoch 1/150\n",
      "77/77 [==============================] - 1s 2ms/step - loss: 6.2889 - accuracy: 0.4798\n",
      "Epoch 2/150\n",
      "77/77 [==============================] - 0s 2ms/step - loss: 1.9337 - accuracy: 0.5450\n",
      "Epoch 3/150\n",
      "77/77 [==============================] - 0s 2ms/step - loss: 1.3943 - accuracy: 0.5828\n",
      "Epoch 4/150\n",
      "77/77 [==============================] - 0s 2ms/step - loss: 1.1817 - accuracy: 0.5893\n",
      "Epoch 5/150\n",
      "77/77 [==============================] - 0s 2ms/step - loss: 1.0333 - accuracy: 0.6076\n",
      "Epoch 6/150\n",
      "77/77 [==============================] - 0s 2ms/step - loss: 0.9245 - accuracy: 0.5841\n",
      "Epoch 7/150\n",
      "77/77 [==============================] - 0s 2ms/step - loss: 0.8457 - accuracy: 0.5945\n",
      "Epoch 8/150\n",
      "77/77 [==============================] - 0s 2ms/step - loss: 0.7843 - accuracy: 0.6023\n",
      "Epoch 9/150\n",
      "77/77 [==============================] - 0s 2ms/step - loss: 0.7443 - accuracy: 0.6284\n",
      "Epoch 10/150\n",
      "77/77 [==============================] - 0s 2ms/step - loss: 0.7140 - accuracy: 0.6506\n",
      "Epoch 11/150\n",
      "77/77 [==============================] - 0s 2ms/step - loss: 0.7170 - accuracy: 0.6441\n",
      "Epoch 12/150\n",
      "77/77 [==============================] - 0s 2ms/step - loss: 0.6921 - accuracy: 0.6415\n",
      "Epoch 13/150\n",
      "77/77 [==============================] - 0s 2ms/step - loss: 0.6936 - accuracy: 0.6441\n",
      "Epoch 14/150\n",
      "77/77 [==============================] - 0s 2ms/step - loss: 0.6779 - accuracy: 0.6506\n",
      "Epoch 15/150\n",
      "77/77 [==============================] - 0s 2ms/step - loss: 0.6798 - accuracy: 0.6480\n",
      "Epoch 16/150\n",
      "77/77 [==============================] - 0s 2ms/step - loss: 0.6660 - accuracy: 0.6519\n",
      "Epoch 17/150\n",
      "77/77 [==============================] - 0s 2ms/step - loss: 0.6729 - accuracy: 0.6506\n",
      "Epoch 18/150\n",
      "77/77 [==============================] - 0s 2ms/step - loss: 0.6523 - accuracy: 0.6558\n",
      "Epoch 19/150\n",
      "77/77 [==============================] - 0s 2ms/step - loss: 0.6621 - accuracy: 0.6780\n",
      "Epoch 20/150\n",
      "77/77 [==============================] - 0s 2ms/step - loss: 0.6484 - accuracy: 0.6780\n",
      "Epoch 21/150\n",
      "77/77 [==============================] - 0s 2ms/step - loss: 0.6558 - accuracy: 0.6545\n",
      "Epoch 22/150\n",
      "77/77 [==============================] - 0s 2ms/step - loss: 0.6419 - accuracy: 0.6858\n",
      "Epoch 23/150\n",
      "77/77 [==============================] - 0s 2ms/step - loss: 0.6312 - accuracy: 0.6871\n",
      "Epoch 24/150\n",
      "77/77 [==============================] - 0s 2ms/step - loss: 0.6310 - accuracy: 0.6767\n",
      "Epoch 25/150\n",
      "77/77 [==============================] - 0s 2ms/step - loss: 0.6367 - accuracy: 0.6767\n",
      "Epoch 26/150\n",
      "77/77 [==============================] - 0s 2ms/step - loss: 0.6332 - accuracy: 0.6662\n",
      "Epoch 27/150\n",
      "77/77 [==============================] - 0s 2ms/step - loss: 0.6122 - accuracy: 0.6910\n",
      "Epoch 28/150\n",
      "77/77 [==============================] - 0s 2ms/step - loss: 0.6149 - accuracy: 0.6975\n",
      "Epoch 29/150\n",
      "77/77 [==============================] - 0s 2ms/step - loss: 0.6225 - accuracy: 0.6871\n",
      "Epoch 30/150\n",
      "77/77 [==============================] - 0s 2ms/step - loss: 0.6184 - accuracy: 0.6975\n",
      "Epoch 31/150\n",
      "77/77 [==============================] - 0s 2ms/step - loss: 0.6194 - accuracy: 0.7053\n",
      "Epoch 32/150\n",
      "77/77 [==============================] - 0s 2ms/step - loss: 0.5996 - accuracy: 0.7145\n",
      "Epoch 33/150\n",
      "77/77 [==============================] - 0s 2ms/step - loss: 0.6043 - accuracy: 0.6949\n",
      "Epoch 34/150\n",
      "77/77 [==============================] - 0s 2ms/step - loss: 0.6105 - accuracy: 0.6975\n",
      "Epoch 35/150\n",
      "77/77 [==============================] - 0s 2ms/step - loss: 0.6050 - accuracy: 0.6910\n",
      "Epoch 36/150\n",
      "77/77 [==============================] - 0s 2ms/step - loss: 0.6131 - accuracy: 0.6897\n",
      "Epoch 37/150\n",
      "77/77 [==============================] - 0s 2ms/step - loss: 0.5923 - accuracy: 0.7027\n",
      "Epoch 38/150\n",
      "77/77 [==============================] - 0s 2ms/step - loss: 0.5882 - accuracy: 0.7249\n",
      "Epoch 39/150\n",
      "77/77 [==============================] - 0s 2ms/step - loss: 0.5803 - accuracy: 0.7171\n",
      "Epoch 40/150\n",
      "77/77 [==============================] - 0s 2ms/step - loss: 0.5909 - accuracy: 0.7014\n",
      "Epoch 41/150\n",
      "77/77 [==============================] - 0s 2ms/step - loss: 0.5976 - accuracy: 0.7014\n",
      "Epoch 42/150\n",
      "77/77 [==============================] - 0s 2ms/step - loss: 0.6055 - accuracy: 0.6806\n",
      "Epoch 43/150\n",
      "77/77 [==============================] - 0s 2ms/step - loss: 0.5768 - accuracy: 0.7066\n",
      "Epoch 44/150\n",
      "77/77 [==============================] - 0s 2ms/step - loss: 0.5792 - accuracy: 0.7027\n",
      "Epoch 45/150\n",
      "77/77 [==============================] - 0s 2ms/step - loss: 0.5722 - accuracy: 0.7093\n",
      "Epoch 46/150\n",
      "77/77 [==============================] - 0s 2ms/step - loss: 0.5830 - accuracy: 0.6936\n",
      "Epoch 47/150\n",
      "77/77 [==============================] - 0s 2ms/step - loss: 0.5693 - accuracy: 0.7132\n",
      "Epoch 48/150\n",
      "77/77 [==============================] - 0s 2ms/step - loss: 0.5701 - accuracy: 0.7158\n",
      "Epoch 49/150\n",
      "77/77 [==============================] - 0s 2ms/step - loss: 0.5708 - accuracy: 0.7119\n",
      "Epoch 50/150\n",
      "77/77 [==============================] - 0s 2ms/step - loss: 0.5598 - accuracy: 0.7197\n",
      "Epoch 51/150\n",
      "77/77 [==============================] - 0s 2ms/step - loss: 0.5670 - accuracy: 0.7249\n",
      "Epoch 52/150\n",
      "77/77 [==============================] - 0s 2ms/step - loss: 0.5681 - accuracy: 0.7197\n",
      "Epoch 53/150\n",
      "77/77 [==============================] - 0s 3ms/step - loss: 0.5887 - accuracy: 0.7040\n",
      "Epoch 54/150\n",
      "77/77 [==============================] - 0s 2ms/step - loss: 0.5557 - accuracy: 0.7210\n",
      "Epoch 55/150\n",
      "77/77 [==============================] - 0s 2ms/step - loss: 0.5625 - accuracy: 0.7301\n",
      "Epoch 56/150\n",
      "77/77 [==============================] - 0s 2ms/step - loss: 0.5709 - accuracy: 0.7119\n",
      "Epoch 57/150\n",
      "77/77 [==============================] - 0s 2ms/step - loss: 0.5598 - accuracy: 0.7197\n",
      "Epoch 58/150\n",
      "77/77 [==============================] - 0s 3ms/step - loss: 0.5625 - accuracy: 0.7432\n",
      "Epoch 59/150\n",
      "77/77 [==============================] - 0s 2ms/step - loss: 0.5525 - accuracy: 0.7379\n",
      "Epoch 60/150\n",
      "77/77 [==============================] - 0s 2ms/step - loss: 0.5641 - accuracy: 0.7223\n",
      "Epoch 61/150\n",
      "77/77 [==============================] - 0s 2ms/step - loss: 0.5567 - accuracy: 0.7340\n",
      "Epoch 62/150\n",
      "77/77 [==============================] - 0s 3ms/step - loss: 0.5671 - accuracy: 0.7184\n",
      "Epoch 63/150\n",
      "77/77 [==============================] - 0s 3ms/step - loss: 0.5483 - accuracy: 0.7340\n",
      "Epoch 64/150\n",
      "77/77 [==============================] - 0s 3ms/step - loss: 0.5515 - accuracy: 0.7106\n",
      "Epoch 65/150\n",
      "77/77 [==============================] - 0s 2ms/step - loss: 0.5511 - accuracy: 0.7392\n",
      "Epoch 66/150\n",
      "77/77 [==============================] - 0s 3ms/step - loss: 0.5470 - accuracy: 0.7458\n",
      "Epoch 67/150\n",
      "77/77 [==============================] - 0s 3ms/step - loss: 0.5499 - accuracy: 0.7301\n",
      "Epoch 68/150\n",
      "77/77 [==============================] - 0s 3ms/step - loss: 0.5430 - accuracy: 0.7275\n",
      "Epoch 69/150\n",
      "77/77 [==============================] - 0s 3ms/step - loss: 0.5465 - accuracy: 0.7288\n",
      "Epoch 70/150\n",
      "77/77 [==============================] - 0s 2ms/step - loss: 0.5428 - accuracy: 0.7419\n",
      "Epoch 71/150\n",
      "77/77 [==============================] - 0s 3ms/step - loss: 0.5415 - accuracy: 0.7497\n",
      "Epoch 72/150\n",
      "77/77 [==============================] - 0s 3ms/step - loss: 0.5448 - accuracy: 0.7353\n",
      "Epoch 73/150\n",
      "77/77 [==============================] - 0s 2ms/step - loss: 0.5415 - accuracy: 0.7405\n",
      "Epoch 74/150\n",
      "77/77 [==============================] - 0s 3ms/step - loss: 0.5510 - accuracy: 0.7262\n",
      "Epoch 75/150\n",
      "77/77 [==============================] - 0s 3ms/step - loss: 0.5404 - accuracy: 0.7471\n",
      "Epoch 76/150\n",
      "77/77 [==============================] - 0s 2ms/step - loss: 0.5447 - accuracy: 0.7379\n",
      "Epoch 77/150\n",
      "77/77 [==============================] - 0s 2ms/step - loss: 0.5458 - accuracy: 0.7314\n",
      "Epoch 78/150\n",
      "77/77 [==============================] - 0s 2ms/step - loss: 0.5412 - accuracy: 0.7484\n",
      "Epoch 79/150\n",
      "77/77 [==============================] - 0s 2ms/step - loss: 0.5407 - accuracy: 0.7419\n",
      "Epoch 80/150\n",
      "77/77 [==============================] - 0s 2ms/step - loss: 0.5427 - accuracy: 0.7445\n",
      "Epoch 81/150\n",
      "77/77 [==============================] - 0s 2ms/step - loss: 0.5384 - accuracy: 0.7523\n",
      "Epoch 82/150\n",
      "77/77 [==============================] - 0s 2ms/step - loss: 0.5486 - accuracy: 0.7458\n",
      "Epoch 83/150\n",
      "77/77 [==============================] - 0s 2ms/step - loss: 0.5414 - accuracy: 0.7405\n",
      "Epoch 84/150\n",
      "77/77 [==============================] - 0s 2ms/step - loss: 0.5360 - accuracy: 0.7379\n",
      "Epoch 85/150\n",
      "77/77 [==============================] - 0s 2ms/step - loss: 0.5297 - accuracy: 0.7379\n",
      "Epoch 86/150\n",
      "77/77 [==============================] - 0s 2ms/step - loss: 0.5317 - accuracy: 0.7419\n",
      "Epoch 87/150\n",
      "77/77 [==============================] - 0s 2ms/step - loss: 0.5340 - accuracy: 0.7549\n",
      "Epoch 88/150\n",
      "77/77 [==============================] - 0s 2ms/step - loss: 0.5424 - accuracy: 0.7471\n",
      "Epoch 89/150\n",
      "77/77 [==============================] - 0s 3ms/step - loss: 0.5340 - accuracy: 0.7405\n",
      "Epoch 90/150\n",
      "77/77 [==============================] - 0s 3ms/step - loss: 0.5242 - accuracy: 0.7562\n",
      "Epoch 91/150\n",
      "77/77 [==============================] - 0s 2ms/step - loss: 0.5436 - accuracy: 0.7301\n",
      "Epoch 92/150\n",
      "77/77 [==============================] - 0s 2ms/step - loss: 0.5300 - accuracy: 0.7392\n",
      "Epoch 93/150\n",
      "77/77 [==============================] - 0s 2ms/step - loss: 0.5348 - accuracy: 0.7510\n",
      "Epoch 94/150\n",
      "77/77 [==============================] - 0s 2ms/step - loss: 0.5443 - accuracy: 0.7249\n",
      "Epoch 95/150\n",
      "77/77 [==============================] - 0s 2ms/step - loss: 0.5319 - accuracy: 0.7419\n",
      "Epoch 96/150\n",
      "77/77 [==============================] - 0s 2ms/step - loss: 0.5253 - accuracy: 0.7588\n",
      "Epoch 97/150\n",
      "77/77 [==============================] - 0s 2ms/step - loss: 0.5341 - accuracy: 0.7379\n",
      "Epoch 98/150\n",
      "77/77 [==============================] - 0s 2ms/step - loss: 0.5283 - accuracy: 0.7510\n",
      "Epoch 99/150\n",
      "77/77 [==============================] - 0s 2ms/step - loss: 0.5256 - accuracy: 0.7549\n",
      "Epoch 100/150\n",
      "77/77 [==============================] - 0s 2ms/step - loss: 0.5272 - accuracy: 0.7445\n",
      "Epoch 101/150\n",
      "77/77 [==============================] - 0s 2ms/step - loss: 0.5240 - accuracy: 0.7549\n",
      "Epoch 102/150\n",
      "77/77 [==============================] - 0s 2ms/step - loss: 0.5222 - accuracy: 0.7549\n",
      "Epoch 103/150\n",
      "77/77 [==============================] - 0s 2ms/step - loss: 0.5205 - accuracy: 0.7523\n",
      "Epoch 104/150\n",
      "77/77 [==============================] - 0s 2ms/step - loss: 0.5204 - accuracy: 0.7601\n",
      "Epoch 105/150\n",
      "77/77 [==============================] - 0s 2ms/step - loss: 0.5300 - accuracy: 0.7640\n",
      "Epoch 106/150\n",
      "77/77 [==============================] - 0s 2ms/step - loss: 0.5395 - accuracy: 0.7471\n",
      "Epoch 107/150\n",
      "77/77 [==============================] - 0s 2ms/step - loss: 0.5306 - accuracy: 0.7536\n",
      "Epoch 108/150\n",
      "77/77 [==============================] - 0s 2ms/step - loss: 0.5197 - accuracy: 0.7445\n",
      "Epoch 109/150\n",
      "77/77 [==============================] - 0s 2ms/step - loss: 0.5188 - accuracy: 0.7510\n",
      "Epoch 110/150\n",
      "77/77 [==============================] - 0s 2ms/step - loss: 0.5219 - accuracy: 0.7601\n",
      "Epoch 111/150\n",
      "77/77 [==============================] - 0s 2ms/step - loss: 0.5234 - accuracy: 0.7497\n",
      "Epoch 112/150\n",
      "77/77 [==============================] - 0s 2ms/step - loss: 0.5220 - accuracy: 0.7523\n",
      "Epoch 113/150\n",
      "77/77 [==============================] - 0s 2ms/step - loss: 0.5259 - accuracy: 0.7562\n",
      "Epoch 114/150\n",
      "77/77 [==============================] - 0s 2ms/step - loss: 0.5283 - accuracy: 0.7588\n",
      "Epoch 115/150\n",
      "77/77 [==============================] - 0s 2ms/step - loss: 0.5201 - accuracy: 0.7484\n",
      "Epoch 116/150\n",
      "77/77 [==============================] - 0s 2ms/step - loss: 0.5389 - accuracy: 0.7497\n",
      "Epoch 117/150\n",
      "77/77 [==============================] - 0s 2ms/step - loss: 0.5177 - accuracy: 0.7536\n",
      "Epoch 118/150\n",
      "77/77 [==============================] - 0s 2ms/step - loss: 0.5232 - accuracy: 0.7562\n",
      "Epoch 119/150\n",
      "77/77 [==============================] - 0s 2ms/step - loss: 0.5250 - accuracy: 0.7575\n",
      "Epoch 120/150\n",
      "77/77 [==============================] - 0s 2ms/step - loss: 0.5240 - accuracy: 0.7484\n",
      "Epoch 121/150\n",
      "77/77 [==============================] - 0s 2ms/step - loss: 0.5204 - accuracy: 0.7575\n",
      "Epoch 122/150\n",
      "77/77 [==============================] - 0s 2ms/step - loss: 0.5196 - accuracy: 0.7588\n",
      "Epoch 123/150\n",
      "77/77 [==============================] - 0s 2ms/step - loss: 0.5117 - accuracy: 0.7614\n",
      "Epoch 124/150\n",
      "77/77 [==============================] - 0s 2ms/step - loss: 0.5155 - accuracy: 0.7523\n",
      "Epoch 125/150\n",
      "77/77 [==============================] - 0s 2ms/step - loss: 0.5124 - accuracy: 0.7575\n",
      "Epoch 126/150\n",
      "77/77 [==============================] - 0s 2ms/step - loss: 0.5093 - accuracy: 0.7640\n",
      "Epoch 127/150\n",
      "77/77 [==============================] - 0s 2ms/step - loss: 0.5079 - accuracy: 0.7562\n",
      "Epoch 128/150\n",
      "77/77 [==============================] - 0s 2ms/step - loss: 0.5079 - accuracy: 0.7471\n",
      "Epoch 129/150\n",
      "77/77 [==============================] - 0s 2ms/step - loss: 0.5187 - accuracy: 0.7562\n",
      "Epoch 130/150\n",
      "77/77 [==============================] - 0s 2ms/step - loss: 0.5182 - accuracy: 0.7458\n",
      "Epoch 131/150\n",
      "77/77 [==============================] - 0s 2ms/step - loss: 0.5167 - accuracy: 0.7562\n",
      "Epoch 132/150\n",
      "77/77 [==============================] - 0s 2ms/step - loss: 0.5153 - accuracy: 0.7549\n",
      "Epoch 133/150\n",
      "77/77 [==============================] - 0s 2ms/step - loss: 0.5423 - accuracy: 0.7275\n",
      "Epoch 134/150\n",
      "77/77 [==============================] - 0s 2ms/step - loss: 0.5066 - accuracy: 0.7614\n",
      "Epoch 135/150\n",
      "77/77 [==============================] - 0s 2ms/step - loss: 0.5067 - accuracy: 0.7510\n",
      "Epoch 136/150\n",
      "77/77 [==============================] - 0s 2ms/step - loss: 0.5087 - accuracy: 0.7679\n",
      "Epoch 137/150\n",
      "77/77 [==============================] - 0s 2ms/step - loss: 0.5074 - accuracy: 0.7614\n",
      "Epoch 138/150\n",
      "77/77 [==============================] - 0s 2ms/step - loss: 0.5064 - accuracy: 0.7627\n",
      "Epoch 139/150\n",
      "77/77 [==============================] - 0s 2ms/step - loss: 0.5019 - accuracy: 0.7614\n",
      "Epoch 140/150\n",
      "77/77 [==============================] - 0s 2ms/step - loss: 0.5170 - accuracy: 0.7588\n",
      "Epoch 141/150\n",
      "77/77 [==============================] - 0s 2ms/step - loss: 0.5014 - accuracy: 0.7575\n",
      "Epoch 142/150\n",
      "77/77 [==============================] - 0s 2ms/step - loss: 0.5060 - accuracy: 0.7601\n",
      "Epoch 143/150\n",
      "77/77 [==============================] - 0s 2ms/step - loss: 0.5136 - accuracy: 0.7627\n",
      "Epoch 144/150\n",
      "77/77 [==============================] - 0s 2ms/step - loss: 0.5025 - accuracy: 0.7562\n",
      "Epoch 145/150\n",
      "77/77 [==============================] - 0s 2ms/step - loss: 0.5062 - accuracy: 0.7601\n",
      "Epoch 146/150\n",
      "77/77 [==============================] - 0s 3ms/step - loss: 0.5055 - accuracy: 0.7588\n",
      "Epoch 147/150\n",
      "77/77 [==============================] - 0s 3ms/step - loss: 0.5125 - accuracy: 0.7640\n",
      "Epoch 148/150\n",
      "77/77 [==============================] - 0s 3ms/step - loss: 0.5070 - accuracy: 0.7588\n",
      "Epoch 149/150\n",
      "77/77 [==============================] - 0s 2ms/step - loss: 0.5137 - accuracy: 0.7601\n",
      "Epoch 150/150\n",
      "77/77 [==============================] - 0s 2ms/step - loss: 0.5107 - accuracy: 0.7601\n",
      "24/24 [==============================] - 0s 2ms/step - loss: 0.4925 - accuracy: 0.7731\n",
      "Accuracy: 77.31\n"
     ]
    }
   ],
   "source": [
    "# if error in graphviz then download http://www.graphviz.org/download/ and install\n",
    "model = Sequential()\n",
    "model.add(Dense(12, input_dim=8, activation='relu'))\n",
    "model.add(Dense(8, activation='relu'))\n",
    "model.add(Dense(1, activation='sigmoid'))\n",
    "# compile the keras model\n",
    "model.compile(loss='binary_crossentropy', optimizer='adam', metrics=['accuracy'])\n",
    "# fit the keras model on the dataset\n",
    "model.fit(X, y, epochs=150, batch_size=10)\n",
    "# evaluate the keras model\n",
    "_, accuracy = model.evaluate(X, y)\n",
    "print('Accuracy: %.2f' % (accuracy*100))\n"
   ]
  },
  {
   "cell_type": "code",
   "execution_count": null,
   "id": "5da49c1a",
   "metadata": {},
   "outputs": [],
   "source": []
  }
 ],
 "metadata": {
  "colab": {
   "provenance": []
  },
  "kernelspec": {
   "display_name": "Python 3 (ipykernel)",
   "language": "python",
   "name": "python3"
  },
  "language_info": {
   "codemirror_mode": {
    "name": "ipython",
    "version": 3
   },
   "file_extension": ".py",
   "mimetype": "text/x-python",
   "name": "python",
   "nbconvert_exporter": "python",
   "pygments_lexer": "ipython3",
   "version": "3.11.5"
  }
 },
 "nbformat": 4,
 "nbformat_minor": 5
}
